{
 "cells": [
  {
   "cell_type": "code",
   "execution_count": 5,
   "id": "59b96542",
   "metadata": {},
   "outputs": [],
   "source": [
    "import requests\n",
    "import json"
   ]
  },
  {
   "cell_type": "code",
   "execution_count": 12,
   "id": "d19bdfda",
   "metadata": {},
   "outputs": [
    {
     "data": {
      "text/plain": [
       "'{\"HighBP\": 1.0, \"HighChol\": 1.0, \"CholCheck\": 1.0, \"BMI\": 30.5, \"Smoker\": 0.0, \"Stroke\": 0.0, \"HeartDiseaseorAttack\": 0.0, \"PhysActivity\": 0.0, \"Fruits\": 0.0, \"Veggies\": 0.0, \"HvyAlcoholConsump\": 0.0, \"AnyHealthcare\": 0.0, \"NoDocbcCost\": 0.0, \"GenHlth\": 3.0, \"MentHlth\": 0.0, \"PhysHlth\": 0.0, \"DiffWalk\": 0.0, \"Sex\": 0.0, \"Age\": 2.0, \"Education\": 5.0, \"Income\": 4.0}'"
      ]
     },
     "execution_count": 12,
     "metadata": {},
     "output_type": "execute_result"
    }
   ],
   "source": [
    "data={\n",
    "  \"HighBP\": 1.0,\n",
    "  \"HighChol\": 1.0,\n",
    "  \"CholCheck\": 1.0,\n",
    "  \"BMI\": 30.5,\n",
    "  \"Smoker\": 0.0,\n",
    "  \"Stroke\": 0.0,\n",
    "  \"HeartDiseaseorAttack\": 0.0,\n",
    "  \"PhysActivity\": 0.0,\n",
    "  \"Fruits\": 0.0,\n",
    "  \"Veggies\": 0.0,\n",
    "  \"HvyAlcoholConsump\": 0.0,\n",
    "  \"AnyHealthcare\": 0.0,\n",
    "  \"NoDocbcCost\": 0.0,\n",
    "  \"GenHlth\": 3.0,\n",
    "  \"MentHlth\": 0.0,\n",
    "  \"PhysHlth\": 0.0,\n",
    "  \"DiffWalk\": 0.0,\n",
    "  \"Sex\": 0.0,\n",
    "  \"Age\": 2.0,\n",
    "  \"Education\": 5.0,\n",
    "  \"Income\": 4.0\n",
    "}\n",
    "json.dumps(data)\n",
    "json.dumps(data)"
   ]
  },
  {
   "cell_type": "code",
   "execution_count": 13,
   "id": "b63806c1",
   "metadata": {},
   "outputs": [
    {
     "data": {
      "text/plain": [
       "'http://127.0.0.1:8000/predict'"
      ]
     },
     "execution_count": 13,
     "metadata": {},
     "output_type": "execute_result"
    }
   ],
   "source": [
    "path='/predict'\n",
    "base_url='http://127.0.0.1:8000'\n",
    "endpoint=f'{base_url}{path}'\n",
    "endpoint"
   ]
  },
  {
   "cell_type": "code",
   "execution_count": 14,
   "id": "927e48bb",
   "metadata": {},
   "outputs": [],
   "source": [
    "response = requests.post(endpoint, json=data)"
   ]
  },
  {
   "cell_type": "code",
   "execution_count": 15,
   "id": "87af45c4",
   "metadata": {},
   "outputs": [
    {
     "data": {
      "text/plain": [
       "True"
      ]
     },
     "execution_count": 15,
     "metadata": {},
     "output_type": "execute_result"
    }
   ],
   "source": [
    "response.ok"
   ]
  },
  {
   "cell_type": "code",
   "execution_count": 16,
   "id": "4d3d8650",
   "metadata": {},
   "outputs": [
    {
     "data": {
      "text/plain": [
       "'{\"prediction\":0,\"probability\":{\"diabetes\":0.46298055372653374,\"no diabetes\":0.5370194462734663}}'"
      ]
     },
     "execution_count": 16,
     "metadata": {},
     "output_type": "execute_result"
    }
   ],
   "source": [
    "response.text"
   ]
  },
  {
   "cell_type": "code",
   "execution_count": null,
   "id": "b5f49a8f",
   "metadata": {},
   "outputs": [],
   "source": [
    "data={\n",
    "  \"HighBP\": 1.0,\n",
    "  \"HighChol\": 1.0,\n",
    "  \"CholCheck\": 1.0,\n",
    "  \"BMI\": 30.5,\n",
    "  \"Smoker\": 0.0,\n",
    "  \"Stroke\": 0.0,\n",
    "  \"HeartDiseaseorAttack\": 0.0,\n",
    "  \"PhysActivity\": 0.0,\n",
    "  \"Fruits\": 0.0,\n",
    "  \"Veggies\": 0.0,\n",
    "  \"HvyAlcoholConsump\": 0.0,\n",
    "  \"AnyHealthcare\": 0.0,\n",
    "  \"NoDocbcCost\": 0.0,\n",
    "  \"GenHlth\": 3.0,\n",
    "  \"MentHlth\": 0.0,\n",
    "  \"PhysHlth\": 0.0,\n",
    "  \"DiffWalk\": 0.0,\n",
    "  \"Sex\": 0.0,\n",
    "  \"Age\": 2.0,\n",
    "  \"Education\": 5.0,\n",
    "  \"Income\": 4.0\n",
    "}\n",
    "json.dumps(data)"
   ]
  },
  {
   "cell_type": "code",
   "execution_count": null,
   "id": "cca18618",
   "metadata": {},
   "outputs": [],
   "source": []
  }
 ],
 "metadata": {
  "kernelspec": {
   "display_name": ".venv",
   "language": "python",
   "name": "python3"
  },
  "language_info": {
   "codemirror_mode": {
    "name": "ipython",
    "version": 3
   },
   "file_extension": ".py",
   "mimetype": "text/x-python",
   "name": "python",
   "nbconvert_exporter": "python",
   "pygments_lexer": "ipython3",
   "version": "3.12.3"
  }
 },
 "nbformat": 4,
 "nbformat_minor": 5
}
